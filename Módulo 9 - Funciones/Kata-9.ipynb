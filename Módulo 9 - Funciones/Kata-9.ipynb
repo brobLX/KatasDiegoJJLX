{
 "cells": [
  {
   "cell_type": "markdown",
   "metadata": {},
   "source": [
    "## Ejercicio: Uso de funciones en Python\n",
    "Ejercicio 1: Trabajar con argumentos en funciones"
   ]
  },
  {
   "cell_type": "code",
   "execution_count": 12,
   "metadata": {},
   "outputs": [],
   "source": [
    "def reporte(tanque1,tanque2,tanque3):\n",
    "    prom = (tanque1 + tanque2 + tanque3) / 3\n",
    "    return f\"\"\"Reporte:\n",
    "    Promedio total: {prom}%\n",
    "    1 : {tanque1}%\n",
    "    2 : {tanque2}%\n",
    "    3 : {tanque3}% \n",
    "    \"\"\""
   ]
  },
  {
   "cell_type": "code",
   "execution_count": 14,
   "metadata": {},
   "outputs": [
    {
     "name": "stdout",
     "output_type": "stream",
     "text": [
      "Reporte:\n",
      "    Promedio total: 30.0%\n",
      "    1 : 20%\n",
      "    2 : 30%\n",
      "    3 : 40% \n",
      "    \n"
     ]
    }
   ],
   "source": [
    "print(reporte(20, 30, 40))"
   ]
  },
  {
   "cell_type": "code",
   "execution_count": 20,
   "metadata": {},
   "outputs": [],
   "source": [
    "def prom(tanque1, tanque2, tanque3):\n",
    "    return (tanque1 + tanque2 + tanque3)/3\n"
   ]
  },
  {
   "cell_type": "markdown",
   "metadata": {},
   "source": [
    "# Ejercicio 2: Trabajo con argumentos de palabra clave"
   ]
  },
  {
   "cell_type": "code",
   "execution_count": 30,
   "metadata": {},
   "outputs": [
    {
     "data": {
      "text/plain": [
       "'Mision a MARTE. Tiempo de vuelo 43 minutos. Combustible: 120 galones '"
      ]
     },
     "execution_count": 30,
     "metadata": {},
     "output_type": "execute_result"
    }
   ],
   "source": [
    "def informe(hora,tiempo_vuelo,destino,tanque1,tanque2):\n",
    "   return f\"\"\"Mision a {destino}. Tiempo de vuelo {tiempo_vuelo+ hora} minutos. Combustible: {tanque1 + tanque2} galones \"\"\"\n",
    "informe(3,40,\"MARTE\",40,80)"
   ]
  },
  {
   "cell_type": "markdown",
   "metadata": {},
   "source": [
    "Función más flexible"
   ]
  },
  {
   "cell_type": "code",
   "execution_count": 34,
   "metadata": {},
   "outputs": [
    {
     "name": "stdout",
     "output_type": "stream",
     "text": [
      "Mision a Luna. Tiempo de vuelo 76 minutos. Combustible: 500000 galones \n"
     ]
    }
   ],
   "source": [
    "def informe2(destino, *minutos, **combustible):\n",
    "    return f\"\"\"Mision a {destino}. Tiempo de vuelo {sum(minutos)} minutos. Combustible: {sum(combustible.values())} galones \"\"\"\n",
    "print(informe2(\"Luna\", 10, 15, 51, main=300000, external=200000))"
   ]
  }
 ],
 "metadata": {
  "interpreter": {
   "hash": "f7fafd2ef8e2be16c7f88b92f8ac2b7f126b4f526f5cd0907bb3080cc568942e"
  },
  "kernelspec": {
   "display_name": "Python 3.7.9 64-bit (windows store)",
   "language": "python",
   "name": "python3"
  },
  "language_info": {
   "codemirror_mode": {
    "name": "ipython",
    "version": 3
   },
   "file_extension": ".py",
   "mimetype": "text/x-python",
   "name": "python",
   "nbconvert_exporter": "python",
   "pygments_lexer": "ipython3",
   "version": "3.7.9"
  },
  "orig_nbformat": 4
 },
 "nbformat": 4,
 "nbformat_minor": 2
}
