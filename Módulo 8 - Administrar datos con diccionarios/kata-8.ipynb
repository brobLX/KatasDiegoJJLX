{
 "cells": [
  {
   "cell_type": "markdown",
   "metadata": {},
   "source": [
    "## Ejercicio 1: Creación de diccionarios de Python\n",
    "Ejercicio: Crear y modificar un diccionario de Python"
   ]
  },
  {
   "cell_type": "code",
   "execution_count": 6,
   "metadata": {},
   "outputs": [
    {
     "name": "stdout",
     "output_type": "stream",
     "text": [
      "Marte\n",
      "2\n"
     ]
    }
   ],
   "source": [
    "planet = {\n",
    "    'name': 'Marte',\n",
    "    'Lunas': 2\n",
    "}\n",
    "print(planet[\"name\"])\n",
    "print(planet[\"Lunas\"])"
   ]
  },
  {
   "cell_type": "markdown",
   "metadata": {},
   "source": [
    "Agrega un nuevo valor con una clave de 'circunferencia (km)'. Este nuevo valor debería almacenar un diccionario con las dos circunferencias del planeta:"
   ]
  },
  {
   "cell_type": "code",
   "execution_count": 9,
   "metadata": {},
   "outputs": [
    {
     "name": "stdout",
     "output_type": "stream",
     "text": [
      "Marte tiene una circunferencia polar de 6752\n"
     ]
    }
   ],
   "source": [
    "planet.update({\n",
    "    'circunferencia' :{\n",
    "        'polar' : 6752,\n",
    "        'ecuatorial' : 6792\n",
    "    }\n",
    "})\n",
    "\n",
    "print(f\"{planet.get('name')} tiene una circunferencia polar de {planet.get('circunferencia').get('polar')}\")"
   ]
  },
  {
   "cell_type": "markdown",
   "metadata": {},
   "source": [
    "## Ejercicio 2: Programación dinámica con diccionarios\n",
    "Ejercicio: Cálculo de valores"
   ]
  },
  {
   "cell_type": "code",
   "execution_count": 14,
   "metadata": {},
   "outputs": [
    {
     "name": "stdout",
     "output_type": "stream",
     "text": [
      "Promedio de lunas: 17.833333333333332\n"
     ]
    }
   ],
   "source": [
    "planet_moons = {\n",
    "    'mercury': 0,\n",
    "    'venus': 0,\n",
    "    'earth': 1,\n",
    "    'mars': 2,\n",
    "    'jupiter': 79,\n",
    "    'saturn': 82,\n",
    "    'uranus': 27,\n",
    "    'neptune': 14,\n",
    "    'pluto': 5,\n",
    "    'haumea': 2,\n",
    "    'makemake': 1,\n",
    "    'eris': 1\n",
    "}\n",
    "lunas = 0\n",
    "n =  planet_moons.values()\n",
    "\n",
    "for i in n:\n",
    "    lunas = lunas + i\n",
    "promedio = lunas/len(planet_moons)\n",
    "print(\"Promedio de lunas:\", promedio)"
   ]
  }
 ],
 "metadata": {
  "interpreter": {
   "hash": "f7fafd2ef8e2be16c7f88b92f8ac2b7f126b4f526f5cd0907bb3080cc568942e"
  },
  "kernelspec": {
   "display_name": "Python 3.7.9 64-bit (windows store)",
   "language": "python",
   "name": "python3"
  },
  "language_info": {
   "codemirror_mode": {
    "name": "ipython",
    "version": 3
   },
   "file_extension": ".py",
   "mimetype": "text/x-python",
   "name": "python",
   "nbconvert_exporter": "python",
   "pygments_lexer": "ipython3",
   "version": "3.7.9"
  },
  "orig_nbformat": 4
 },
 "nbformat": 4,
 "nbformat_minor": 2
}
